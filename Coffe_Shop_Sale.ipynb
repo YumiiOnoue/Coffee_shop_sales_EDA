{
 "cells": [
  {
   "cell_type": "markdown",
   "id": "31ce7b06",
   "metadata": {},
   "source": [
    "# Coffe Shop Sales"
   ]
  },
  {
   "cell_type": "markdown",
   "id": "92690971",
   "metadata": {},
   "source": [
    "## Importando bibliotecas"
   ]
  },
  {
   "cell_type": "code",
   "execution_count": 1,
   "id": "6f6c3fc6",
   "metadata": {},
   "outputs": [],
   "source": [
    "import pandas as pd \n",
    "import numpy as np  \n",
    "import matplotlib.pyplot as plt  \n",
    "import seaborn as sns  "
   ]
  },
  {
   "cell_type": "markdown",
   "id": "bc8d7a07",
   "metadata": {},
   "source": [
    "## Carregando dados"
   ]
  },
  {
   "cell_type": "code",
   "execution_count": 2,
   "id": "095f5459",
   "metadata": {},
   "outputs": [],
   "source": [
    "df = pd.read_excel('Coffee_Shop_Sales.xlsx')"
   ]
  },
  {
   "cell_type": "markdown",
   "id": "db8bbcde",
   "metadata": {},
   "source": [
    "## Explorando os dados"
   ]
  },
  {
   "cell_type": "code",
   "execution_count": 3,
   "id": "6ceacf63",
   "metadata": {},
   "outputs": [
    {
     "data": {
      "text/html": [
       "<div>\n",
       "<style scoped>\n",
       "    .dataframe tbody tr th:only-of-type {\n",
       "        vertical-align: middle;\n",
       "    }\n",
       "\n",
       "    .dataframe tbody tr th {\n",
       "        vertical-align: top;\n",
       "    }\n",
       "\n",
       "    .dataframe thead th {\n",
       "        text-align: right;\n",
       "    }\n",
       "</style>\n",
       "<table border=\"1\" class=\"dataframe\">\n",
       "  <thead>\n",
       "    <tr style=\"text-align: right;\">\n",
       "      <th></th>\n",
       "      <th>transaction_id</th>\n",
       "      <th>transaction_date</th>\n",
       "      <th>transaction_time</th>\n",
       "      <th>transaction_qty</th>\n",
       "      <th>store_id</th>\n",
       "      <th>store_location</th>\n",
       "      <th>product_id</th>\n",
       "      <th>unit_price</th>\n",
       "      <th>product_category</th>\n",
       "      <th>product_type</th>\n",
       "      <th>product_detail</th>\n",
       "    </tr>\n",
       "  </thead>\n",
       "  <tbody>\n",
       "    <tr>\n",
       "      <th>0</th>\n",
       "      <td>1</td>\n",
       "      <td>2023-01-01</td>\n",
       "      <td>07:06:11</td>\n",
       "      <td>2</td>\n",
       "      <td>5</td>\n",
       "      <td>Lower Manhattan</td>\n",
       "      <td>32</td>\n",
       "      <td>3.0</td>\n",
       "      <td>Coffee</td>\n",
       "      <td>Gourmet brewed coffee</td>\n",
       "      <td>Ethiopia Rg</td>\n",
       "    </tr>\n",
       "    <tr>\n",
       "      <th>1</th>\n",
       "      <td>2</td>\n",
       "      <td>2023-01-01</td>\n",
       "      <td>07:08:56</td>\n",
       "      <td>2</td>\n",
       "      <td>5</td>\n",
       "      <td>Lower Manhattan</td>\n",
       "      <td>57</td>\n",
       "      <td>3.1</td>\n",
       "      <td>Tea</td>\n",
       "      <td>Brewed Chai tea</td>\n",
       "      <td>Spicy Eye Opener Chai Lg</td>\n",
       "    </tr>\n",
       "    <tr>\n",
       "      <th>2</th>\n",
       "      <td>3</td>\n",
       "      <td>2023-01-01</td>\n",
       "      <td>07:14:04</td>\n",
       "      <td>2</td>\n",
       "      <td>5</td>\n",
       "      <td>Lower Manhattan</td>\n",
       "      <td>59</td>\n",
       "      <td>4.5</td>\n",
       "      <td>Drinking Chocolate</td>\n",
       "      <td>Hot chocolate</td>\n",
       "      <td>Dark chocolate Lg</td>\n",
       "    </tr>\n",
       "    <tr>\n",
       "      <th>3</th>\n",
       "      <td>4</td>\n",
       "      <td>2023-01-01</td>\n",
       "      <td>07:20:24</td>\n",
       "      <td>1</td>\n",
       "      <td>5</td>\n",
       "      <td>Lower Manhattan</td>\n",
       "      <td>22</td>\n",
       "      <td>2.0</td>\n",
       "      <td>Coffee</td>\n",
       "      <td>Drip coffee</td>\n",
       "      <td>Our Old Time Diner Blend Sm</td>\n",
       "    </tr>\n",
       "    <tr>\n",
       "      <th>4</th>\n",
       "      <td>5</td>\n",
       "      <td>2023-01-01</td>\n",
       "      <td>07:22:41</td>\n",
       "      <td>2</td>\n",
       "      <td>5</td>\n",
       "      <td>Lower Manhattan</td>\n",
       "      <td>57</td>\n",
       "      <td>3.1</td>\n",
       "      <td>Tea</td>\n",
       "      <td>Brewed Chai tea</td>\n",
       "      <td>Spicy Eye Opener Chai Lg</td>\n",
       "    </tr>\n",
       "  </tbody>\n",
       "</table>\n",
       "</div>"
      ],
      "text/plain": [
       "   transaction_id transaction_date transaction_time  transaction_qty  \\\n",
       "0               1       2023-01-01         07:06:11                2   \n",
       "1               2       2023-01-01         07:08:56                2   \n",
       "2               3       2023-01-01         07:14:04                2   \n",
       "3               4       2023-01-01         07:20:24                1   \n",
       "4               5       2023-01-01         07:22:41                2   \n",
       "\n",
       "   store_id   store_location  product_id  unit_price    product_category  \\\n",
       "0         5  Lower Manhattan          32         3.0              Coffee   \n",
       "1         5  Lower Manhattan          57         3.1                 Tea   \n",
       "2         5  Lower Manhattan          59         4.5  Drinking Chocolate   \n",
       "3         5  Lower Manhattan          22         2.0              Coffee   \n",
       "4         5  Lower Manhattan          57         3.1                 Tea   \n",
       "\n",
       "            product_type               product_detail  \n",
       "0  Gourmet brewed coffee                  Ethiopia Rg  \n",
       "1        Brewed Chai tea     Spicy Eye Opener Chai Lg  \n",
       "2          Hot chocolate            Dark chocolate Lg  \n",
       "3            Drip coffee  Our Old Time Diner Blend Sm  \n",
       "4        Brewed Chai tea     Spicy Eye Opener Chai Lg  "
      ]
     },
     "execution_count": 3,
     "metadata": {},
     "output_type": "execute_result"
    }
   ],
   "source": [
    "df.head() "
   ]
  },
  {
   "cell_type": "code",
   "execution_count": 4,
   "id": "34b66228",
   "metadata": {},
   "outputs": [
    {
     "name": "stdout",
     "output_type": "stream",
     "text": [
      "<class 'pandas.core.frame.DataFrame'>\n",
      "RangeIndex: 149116 entries, 0 to 149115\n",
      "Data columns (total 11 columns):\n",
      " #   Column            Non-Null Count   Dtype         \n",
      "---  ------            --------------   -----         \n",
      " 0   transaction_id    149116 non-null  int64         \n",
      " 1   transaction_date  149116 non-null  datetime64[ns]\n",
      " 2   transaction_time  149116 non-null  object        \n",
      " 3   transaction_qty   149116 non-null  int64         \n",
      " 4   store_id          149116 non-null  int64         \n",
      " 5   store_location    149116 non-null  object        \n",
      " 6   product_id        149116 non-null  int64         \n",
      " 7   unit_price        149116 non-null  float64       \n",
      " 8   product_category  149116 non-null  object        \n",
      " 9   product_type      149116 non-null  object        \n",
      " 10  product_detail    149116 non-null  object        \n",
      "dtypes: datetime64[ns](1), float64(1), int64(4), object(5)\n",
      "memory usage: 12.5+ MB\n"
     ]
    }
   ],
   "source": [
    "#informações gerais\n",
    "df.info()"
   ]
  },
  {
   "cell_type": "code",
   "execution_count": 5,
   "id": "367189c9",
   "metadata": {},
   "outputs": [
    {
     "data": {
      "text/html": [
       "<div>\n",
       "<style scoped>\n",
       "    .dataframe tbody tr th:only-of-type {\n",
       "        vertical-align: middle;\n",
       "    }\n",
       "\n",
       "    .dataframe tbody tr th {\n",
       "        vertical-align: top;\n",
       "    }\n",
       "\n",
       "    .dataframe thead th {\n",
       "        text-align: right;\n",
       "    }\n",
       "</style>\n",
       "<table border=\"1\" class=\"dataframe\">\n",
       "  <thead>\n",
       "    <tr style=\"text-align: right;\">\n",
       "      <th></th>\n",
       "      <th>transaction_qty</th>\n",
       "      <th>unit_price</th>\n",
       "    </tr>\n",
       "  </thead>\n",
       "  <tbody>\n",
       "    <tr>\n",
       "      <th>count</th>\n",
       "      <td>149116.000000</td>\n",
       "      <td>149116.000000</td>\n",
       "    </tr>\n",
       "    <tr>\n",
       "      <th>mean</th>\n",
       "      <td>1.438276</td>\n",
       "      <td>3.382219</td>\n",
       "    </tr>\n",
       "    <tr>\n",
       "      <th>std</th>\n",
       "      <td>0.542509</td>\n",
       "      <td>2.658723</td>\n",
       "    </tr>\n",
       "    <tr>\n",
       "      <th>min</th>\n",
       "      <td>1.000000</td>\n",
       "      <td>0.800000</td>\n",
       "    </tr>\n",
       "    <tr>\n",
       "      <th>25%</th>\n",
       "      <td>1.000000</td>\n",
       "      <td>2.500000</td>\n",
       "    </tr>\n",
       "    <tr>\n",
       "      <th>50%</th>\n",
       "      <td>1.000000</td>\n",
       "      <td>3.000000</td>\n",
       "    </tr>\n",
       "    <tr>\n",
       "      <th>75%</th>\n",
       "      <td>2.000000</td>\n",
       "      <td>3.750000</td>\n",
       "    </tr>\n",
       "    <tr>\n",
       "      <th>max</th>\n",
       "      <td>8.000000</td>\n",
       "      <td>45.000000</td>\n",
       "    </tr>\n",
       "  </tbody>\n",
       "</table>\n",
       "</div>"
      ],
      "text/plain": [
       "       transaction_qty     unit_price\n",
       "count    149116.000000  149116.000000\n",
       "mean          1.438276       3.382219\n",
       "std           0.542509       2.658723\n",
       "min           1.000000       0.800000\n",
       "25%           1.000000       2.500000\n",
       "50%           1.000000       3.000000\n",
       "75%           2.000000       3.750000\n",
       "max           8.000000      45.000000"
      ]
     },
     "execution_count": 5,
     "metadata": {},
     "output_type": "execute_result"
    }
   ],
   "source": [
    "# Estatísticas descritivas básicas\n",
    "df[['transaction_qty','unit_price']].describe()"
   ]
  },
  {
   "cell_type": "code",
   "execution_count": 6,
   "id": "a80def8c",
   "metadata": {},
   "outputs": [
    {
     "data": {
      "text/plain": [
       "Index(['transaction_id', 'transaction_date', 'transaction_time',\n",
       "       'transaction_qty', 'store_id', 'store_location', 'product_id',\n",
       "       'unit_price', 'product_category', 'product_type', 'product_detail'],\n",
       "      dtype='object')"
      ]
     },
     "execution_count": 6,
     "metadata": {},
     "output_type": "execute_result"
    }
   ],
   "source": [
    "df.columns"
   ]
  },
  {
   "cell_type": "code",
   "execution_count": 7,
   "id": "b2dd6c60",
   "metadata": {},
   "outputs": [
    {
     "data": {
      "text/plain": [
       "(149116, 11)"
      ]
     },
     "execution_count": 7,
     "metadata": {},
     "output_type": "execute_result"
    }
   ],
   "source": [
    "df.shape"
   ]
  },
  {
   "cell_type": "markdown",
   "id": "5cf52601",
   "metadata": {},
   "source": [
    "## Análise Exploratória dos Dados"
   ]
  },
  {
   "cell_type": "markdown",
   "id": "0b9ae098",
   "metadata": {},
   "source": [
    "Qual o produto mais vendido?"
   ]
  },
  {
   "cell_type": "code",
   "execution_count": 8,
   "id": "8549483b",
   "metadata": {},
   "outputs": [
    {
     "data": {
      "text/plain": [
       "product_detail\n",
       "Earl Grey Rg                   4708\n",
       "Dark chocolate Lg              4668\n",
       "Morning Sunrise Chai Rg        4643\n",
       "Latte                          4602\n",
       "Peppermint Rg                  4564\n",
       "Columbian Medium Roast Rg      4547\n",
       "Traditional Blend Chai Rg      4512\n",
       "Latte Rg                       4497\n",
       "Our Old Time Diner Blend Sm    4484\n",
       "Serenity Green Tea Rg          4477\n",
       "Name: transaction_qty, dtype: int64"
      ]
     },
     "execution_count": 8,
     "metadata": {},
     "output_type": "execute_result"
    }
   ],
   "source": [
    "produto_venda = df.groupby('product_detail')['transaction_qty'].sum().sort_values(ascending=False).head(10)\n",
    "produto_venda"
   ]
  },
  {
   "cell_type": "code",
   "execution_count": 24,
   "id": "95fa6fe9",
   "metadata": {},
   "outputs": [
    {
     "data": {
      "image/png": "[encoded data removed]",
      "text/plain": [
       "<Figure size 864x432 with 1 Axes>"
      ]
     },
     "metadata": {
      "needs_background": "light"
     },
     "output_type": "display_data"
    }
   ],
   "source": [
    "plt.figure(figsize=(12,6))\n",
    "sns.barplot(x=produto_venda.values, y=produto_venda.index, palette=\"viridis\")\n",
    "plt.title('Top 10 Produtos Mais Vendidos')\n",
    "plt.xlabel('Quantidade Vendida')\n",
    "plt.ylabel('Produto')\n",
    "plt.savefig('top10-produtos-mais-vendidos.png', dpi=300, facecolor='white')\n",
    "plt.show()"
   ]
  },
  {
   "cell_type": "markdown",
   "id": "10695566",
   "metadata": {},
   "source": [
    "Qual é a categoria de produto que traz a maior receita?"
   ]
  },
  {
   "cell_type": "code",
   "execution_count": 10,
   "id": "1b366ea7",
   "metadata": {},
   "outputs": [],
   "source": [
    "df['receita_total'] = df['transaction_qty']*df['unit_price']"
   ]
  },
  {
   "cell_type": "code",
   "execution_count": 11,
   "id": "66f6a205",
   "metadata": {},
   "outputs": [
    {
     "data": {
      "text/plain": [
       "product_category\n",
       "Coffee                269952.45\n",
       "Tea                   196405.95\n",
       "Bakery                 82315.64\n",
       "Drinking Chocolate     72416.00\n",
       "Coffee beans           40085.25\n",
       "Branded                13607.00\n",
       "Loose Tea              11213.60\n",
       "Flavours                8408.80\n",
       "Packaged Chocolate      4407.64\n",
       "Name: receita_total, dtype: float64"
      ]
     },
     "execution_count": 11,
     "metadata": {},
     "output_type": "execute_result"
    }
   ],
   "source": [
    "categoria_receita = df.groupby('product_category')['receita_total'].sum().sort_values(ascending=False)\n",
    "categoria_receita"
   ]
  },
  {
   "cell_type": "code",
   "execution_count": 12,
   "id": "bd0cb6a4",
   "metadata": {},
   "outputs": [
    {
     "data": {
      "image/png": "[encoded data removed]",
      "text/plain": [
       "<Figure size 864x432 with 1 Axes>"
      ]
     },
     "metadata": {
      "needs_background": "light"
     },
     "output_type": "display_data"
    }
   ],
   "source": [
    "plt.figure(figsize=(12,6))\n",
    "sns.barplot(x=categoria_receita.values, y=categoria_receita.index, palette=\"viridis\")\n",
    "plt.title('Categoria Mais Vendidos')\n",
    "plt.xlabel('Quantidade Vendida')\n",
    "plt.ylabel('Categoria')\n",
    "plt.savefig('categoria-mais-vendidos.png', dpi=300, facecolor='white')\n",
    "plt.show()"
   ]
  },
  {
   "cell_type": "markdown",
   "id": "159248b3",
   "metadata": {},
   "source": [
    "Qual a receita média por cada tipo de produto?"
   ]
  },
  {
   "cell_type": "code",
   "execution_count": 13,
   "id": "bf8d4a49",
   "metadata": {},
   "outputs": [
    {
     "data": {
      "text/plain": [
       "product_type\n",
       "Premium Beans         43.403274\n",
       "Clothing              27.886878\n",
       "Organic Beans         20.504819\n",
       "Gourmet Beans         18.573770\n",
       "House blend Beans     18.000000\n",
       "Espresso Beans        17.430251\n",
       "Housewares            14.152091\n",
       "Drinking Chocolate    10.255789\n",
       "Green beans           10.000000\n",
       "Chai tea               9.709368\n",
       "Name: receita_total, dtype: float64"
      ]
     },
     "execution_count": 13,
     "metadata": {},
     "output_type": "execute_result"
    }
   ],
   "source": [
    "receita_media_tipo = df.groupby('product_type')['receita_total'].mean().sort_values(ascending=False).head(10)\n",
    "receita_media_tipo"
   ]
  },
  {
   "cell_type": "code",
   "execution_count": 14,
   "id": "5d636ed4",
   "metadata": {},
   "outputs": [
    {
     "data": {
      "image/png": "[encoded data removed]",
      "text/plain": [
       "<Figure size 864x432 with 1 Axes>"
      ]
     },
     "metadata": {
      "needs_background": "light"
     },
     "output_type": "display_data"
    }
   ],
   "source": [
    "plt.figure(figsize=(12,6))\n",
    "sns.barplot(x=receita_media_tipo.values, y=receita_media_tipo.index, palette=\"mako\")\n",
    "plt.title('Receita Média por Tipo de Produto')\n",
    "plt.xlabel('Receita Média')\n",
    "plt.ylabel('Tipo de Produto')\n",
    "plt.savefig('receita-media-tipo.png', dpi=300, facecolor='white')\n",
    "plt.show()"
   ]
  },
  {
   "cell_type": "markdown",
   "id": "e0531006",
   "metadata": {},
   "source": [
    "Qual a receita média por loja?"
   ]
  },
  {
   "cell_type": "code",
   "execution_count": 15,
   "id": "53250525",
   "metadata": {},
   "outputs": [
    {
     "data": {
      "text/plain": [
       "store_location\n",
       "Lower Manhattan    4.814726\n",
       "Hell's Kitchen     4.661696\n",
       "Astoria            4.589891\n",
       "Name: receita_total, dtype: float64"
      ]
     },
     "execution_count": 15,
     "metadata": {},
     "output_type": "execute_result"
    }
   ],
   "source": [
    "receita_media_loja = df.groupby('store_location')['receita_total'].mean().sort_values(ascending=False)\n",
    "receita_media_loja"
   ]
  },
  {
   "cell_type": "code",
   "execution_count": 16,
   "id": "b4bc4470",
   "metadata": {},
   "outputs": [
    {
     "data": {
      "image/png": "[encoded data removed]",
      "text/plain": [
       "<Figure size 720x360 with 1 Axes>"
      ]
     },
     "metadata": {
      "needs_background": "light"
     },
     "output_type": "display_data"
    }
   ],
   "source": [
    "plt.figure(figsize=(10,5))\n",
    "sns.barplot(x=receita_media_loja.index, y=receita_media_loja.values, palette='Blues')\n",
    "plt.title('Receita Média por Loja')\n",
    "plt.xlabel('Loja')\n",
    "plt.ylabel('Receita Média')\n",
    "plt.savefig('receita-media-loja.png', dpi=300, facecolor='white')\n",
    "plt.show()"
   ]
  },
  {
   "cell_type": "markdown",
   "id": "3291fbef",
   "metadata": {},
   "source": [
    "Quais as lojas que trazem mais ou menos receita?"
   ]
  },
  {
   "cell_type": "code",
   "execution_count": 17,
   "id": "85f32295",
   "metadata": {},
   "outputs": [
    {
     "data": {
      "text/plain": [
       "store_location\n",
       "Hell's Kitchen     236511.17\n",
       "Astoria            232243.91\n",
       "Lower Manhattan    230057.25\n",
       "Name: receita_total, dtype: float64"
      ]
     },
     "execution_count": 17,
     "metadata": {},
     "output_type": "execute_result"
    }
   ],
   "source": [
    "receita_loja = df.groupby('store_location')['receita_total'].sum().sort_values(ascending=False)\n",
    "receita_loja"
   ]
  },
  {
   "cell_type": "code",
   "execution_count": 18,
   "id": "4666cee2",
   "metadata": {},
   "outputs": [
    {
     "data": {
      "image/png": "[encoded data removed]",
      "text/plain": [
       "<Figure size 720x360 with 1 Axes>"
      ]
     },
     "metadata": {
      "needs_background": "light"
     },
     "output_type": "display_data"
    }
   ],
   "source": [
    "plt.figure(figsize=(10,5))\n",
    "sns.barplot(x=receita_loja.index, y=receita_loja.values, palette='Blues')\n",
    "plt.title('Receita por Loja')\n",
    "plt.xlabel('Loja')\n",
    "plt.ylabel('Receita Total')\n",
    "plt.savefig('receita-loja.png', dpi=300, facecolor='white')\n",
    "plt.show()"
   ]
  },
  {
   "cell_type": "markdown",
   "id": "18a3d5ca",
   "metadata": {},
   "source": [
    "Existe algum padrão nos horários das transações, seja por produto, loja ou região?"
   ]
  },
  {
   "cell_type": "code",
   "execution_count": 19,
   "id": "2ff1469f",
   "metadata": {},
   "outputs": [
    {
     "data": {
      "text/plain": [
       "transaction_date\n",
       "2023-01-01    2508.20\n",
       "2023-01-02    2403.35\n",
       "2023-01-03    2565.00\n",
       "2023-01-04    2220.10\n",
       "2023-01-05    2418.85\n",
       "               ...   \n",
       "2023-06-26    5875.90\n",
       "2023-06-27    5975.65\n",
       "2023-06-28    4728.90\n",
       "2023-06-29    4450.75\n",
       "2023-06-30    5481.32\n",
       "Name: receita_total, Length: 181, dtype: float64"
      ]
     },
     "execution_count": 19,
     "metadata": {},
     "output_type": "execute_result"
    }
   ],
   "source": [
    "# Agregar vendas por dia\n",
    "vendas_dia = df.groupby('transaction_date')['receita_total'].sum()\n",
    "vendas_dia"
   ]
  },
  {
   "cell_type": "code",
   "execution_count": 20,
   "id": "02133cc2",
   "metadata": {},
   "outputs": [
    {
     "data": {
      "image/png": "[encoded data removed]",
      "text/plain": [
       "<Figure size 1080x360 with 1 Axes>"
      ]
     },
     "metadata": {
      "needs_background": "light"
     },
     "output_type": "display_data"
    }
   ],
   "source": [
    "plt.figure(figsize=(15,5))\n",
    "vendas_dia.plot()\n",
    "plt.title('Vendas Diárias')\n",
    "plt.xlabel('Data')\n",
    "plt.ylabel('Receita Total')\n",
    "plt.savefig('vendas-diarias.png', dpi=300, facecolor='white')\n",
    "plt.show()"
   ]
  },
  {
   "cell_type": "code",
   "execution_count": 21,
   "id": "b449ff0c",
   "metadata": {},
   "outputs": [
    {
     "data": {
      "text/plain": [
       "transacao_hora\n",
       "6      6865\n",
       "7     19449\n",
       "8     25197\n",
       "9     25370\n",
       "10    26713\n",
       "11    14035\n",
       "12    12690\n",
       "13    12439\n",
       "14    12907\n",
       "15    12923\n",
       "16    12881\n",
       "17    12700\n",
       "18    10826\n",
       "19     8595\n",
       "20      880\n",
       "Name: transaction_qty, dtype: int64"
      ]
     },
     "execution_count": 21,
     "metadata": {},
     "output_type": "execute_result"
    }
   ],
   "source": [
    "# Converter transaction_time para datetime\n",
    "df['transaction_time'] = pd.to_datetime(df['transaction_time'], format='%H:%M:%S').dt.time\n",
    "\n",
    "# Criar coluna com a hora apenas\n",
    "df['transacao_hora'] = pd.to_datetime(df['transaction_time'], format='%H:%M:%S').dt.hour\n",
    "\n",
    "# Vendas por hora\n",
    "vendas_hora = df.groupby('transacao_hora')['transaction_qty'].sum()\n",
    "vendas_hora"
   ]
  },
  {
   "cell_type": "code",
   "execution_count": 23,
   "id": "444a2f27",
   "metadata": {
    "scrolled": true
   },
   "outputs": [
    {
     "data": {
      "image/png": "[encoded data removed]",
      "text/plain": [
       "<Figure size 720x360 with 1 Axes>"
      ]
     },
     "metadata": {
      "needs_background": "light"
     },
     "output_type": "display_data"
    }
   ],
   "source": [
    "plt.figure(figsize=(10,5))\n",
    "sns.lineplot(x=vendas_hora.index, y=vendas_hora.values, palette='Blues')\n",
    "plt.title('Vendas por Hora')\n",
    "plt.xlabel('Hora do Dia')\n",
    "plt.ylabel('Quantidade de Produtos Vendidos')\n",
    "plt.xticks(range(0, 24))\n",
    "plt.grid(axis='y')\n",
    "plt.savefig('vendas-hora.png', dpi=300, facecolor='white')\n",
    "plt.show()"
   ]
  },
  {
   "cell_type": "code",
   "execution_count": null,
   "id": "dfd9c2e7",
   "metadata": {},
   "outputs": [],
   "source": []
  }
 ],
 "metadata": {
  "kernelspec": {
   "display_name": "Python 3 (ipykernel)",
   "language": "python",
   "name": "python3"
  },
  "language_info": {
   "codemirror_mode": {
    "name": "ipython",
    "version": 3
   },
   "file_extension": ".py",
   "mimetype": "text/x-python",
   "name": "python",
   "nbconvert_exporter": "python",
   "pygments_lexer": "ipython3",
   "version": "3.9.12"
  }
 },
 "nbformat": 4,
 "nbformat_minor": 5
}

{
 "cells": [
  {
   "cell_type": "markdown",
   "id": "31ce7b06",
   "metadata": {},
   "source": [
    "# Coffe Shop Sales"
   ]
  },
  {
   "cell_type": "markdown",
   "id": "92690971",
   "metadata": {},
   "source": [
    "## Importando bibliotecas"
   ]
  },
  {
   "cell_type": "code",
   "execution_count": 1,
   "id": "6f6c3fc6",
   "metadata": {},
   "outputs": [],
   "source": [
    "import pandas as pd \n",
    "import numpy as np  \n",
    "import matplotlib.pyplot as plt  \n",
    "import seaborn as sns  "
   ]
  },
  {
   "cell_type": "markdown",
   "id": "bc8d7a07",
   "metadata": {},
   "source": [
    "## Carregando dados"
   ]
  },
  {
   "cell_type": "code",
   "execution_count": 2,
   "id": "095f5459",
   "metadata": {},
   "outputs": [],
   "source": [
    "df = pd.read_excel('Coffee_Shop_Sales.xlsx')"
   ]
  },
  {
   "cell_type": "markdown",
   "id": "db8bbcde",
   "metadata": {},
   "source": [
    "## Explorando os dados"
   ]
  },
  {
   "cell_type": "code",
   "execution_count": 3,
   "id": "6ceacf63",
   "metadata": {},
   "outputs": [
    {
     "name": "stdout",
     "output_type": "stream",
     "text": [
      "   transaction_id transaction_date transaction_time  transaction_qty  \\\n",
      "0               1       2023-01-01         07:06:11                2   \n",
      "1               2       2023-01-01         07:08:56                2   \n",
      "2               3       2023-01-01         07:14:04                2   \n",
      "3               4       2023-01-01         07:20:24                1   \n",
      "4               5       2023-01-01         07:22:41                2   \n",
      "\n",
      "   store_id   store_location  product_id  unit_price    product_category  \\\n",
      "0         5  Lower Manhattan          32         3.0              Coffee   \n",
      "1         5  Lower Manhattan          57         3.1                 Tea   \n",
      "2         5  Lower Manhattan          59         4.5  Drinking Chocolate   \n",
      "3         5  Lower Manhattan          22         2.0              Coffee   \n",
      "4         5  Lower Manhattan          57         3.1                 Tea   \n",
      "\n",
      "            product_type               product_detail  \n",
      "0  Gourmet brewed coffee                  Ethiopia Rg  \n",
      "1        Brewed Chai tea     Spicy Eye Opener Chai Lg  \n",
      "2          Hot chocolate            Dark chocolate Lg  \n",
      "3            Drip coffee  Our Old Time Diner Blend Sm  \n",
      "4        Brewed Chai tea     Spicy Eye Opener Chai Lg  \n"
     ]
    }
   ],
   "source": [
    "print(df.head()) "
   ]
  },
  {
   "cell_type": "code",
   "execution_count": 4,
   "id": "34b66228",
   "metadata": {},
   "outputs": [
    {
     "name": "stdout",
     "output_type": "stream",
     "text": [
      "<class 'pandas.core.frame.DataFrame'>\n",
      "RangeIndex: 149116 entries, 0 to 149115\n",
      "Data columns (total 11 columns):\n",
      " #   Column            Non-Null Count   Dtype         \n",
      "---  ------            --------------   -----         \n",
      " 0   transaction_id    149116 non-null  int64         \n",
      " 1   transaction_date  149116 non-null  datetime64[ns]\n",
      " 2   transaction_time  149116 non-null  object        \n",
      " 3   transaction_qty   149116 non-null  int64         \n",
      " 4   store_id          149116 non-null  int64         \n",
      " 5   store_location    149116 non-null  object        \n",
      " 6   product_id        149116 non-null  int64         \n",
      " 7   unit_price        149116 non-null  float64       \n",
      " 8   product_category  149116 non-null  object        \n",
      " 9   product_type      149116 non-null  object        \n",
      " 10  product_detail    149116 non-null  object        \n",
      "dtypes: datetime64[ns](1), float64(1), int64(4), object(5)\n",
      "memory usage: 12.5+ MB\n",
      "None\n"
     ]
    }
   ],
   "source": [
    "#informações gerais\n",
    "print(df.info())  "
   ]
  },
  {
   "cell_type": "code",
   "execution_count": 5,
   "id": "367189c9",
   "metadata": {},
   "outputs": [
    {
     "name": "stdout",
     "output_type": "stream",
     "text": [
      "       transaction_id  transaction_qty       store_id     product_id  \\\n",
      "count   149116.000000    149116.000000  149116.000000  149116.000000   \n",
      "mean     74737.371872         1.438276       5.342063      47.918607   \n",
      "std      43153.600016         0.542509       2.074241      17.930020   \n",
      "min          1.000000         1.000000       3.000000       1.000000   \n",
      "25%      37335.750000         1.000000       3.000000      33.000000   \n",
      "50%      74727.500000         1.000000       5.000000      47.000000   \n",
      "75%     112094.250000         2.000000       8.000000      60.000000   \n",
      "max     149456.000000         8.000000       8.000000      87.000000   \n",
      "\n",
      "          unit_price  \n",
      "count  149116.000000  \n",
      "mean        3.382219  \n",
      "std         2.658723  \n",
      "min         0.800000  \n",
      "25%         2.500000  \n",
      "50%         3.000000  \n",
      "75%         3.750000  \n",
      "max        45.000000  \n"
     ]
    }
   ],
   "source": [
    "# Estatísticas descritivas básicas\n",
    "print(df.describe())  "
   ]
  },
  {
   "cell_type": "code",
   "execution_count": 6,
   "id": "a80def8c",
   "metadata": {},
   "outputs": [
    {
     "name": "stdout",
     "output_type": "stream",
     "text": [
      "Index(['transaction_id', 'transaction_date', 'transaction_time',\n",
      "       'transaction_qty', 'store_id', 'store_location', 'product_id',\n",
      "       'unit_price', 'product_category', 'product_type', 'product_detail'],\n",
      "      dtype='object')\n"
     ]
    }
   ],
   "source": [
    "print(df.columns)"
   ]
  },
  {
   "cell_type": "code",
   "execution_count": 7,
   "id": "b2dd6c60",
   "metadata": {},
   "outputs": [
    {
     "name": "stdout",
     "output_type": "stream",
     "text": [
      "(149116, 11)\n"
     ]
    }
   ],
   "source": [
    "print(df.shape)"
   ]
  },
  {
   "cell_type": "markdown",
   "id": "5cf52601",
   "metadata": {},
   "source": [
    "## Análise Exploratória dos Dados"
   ]
  },
  {
   "cell_type": "markdown",
   "id": "0b9ae098",
   "metadata": {},
   "source": [
    "Qual o produto mais vendido?"
   ]
  },
  {
   "cell_type": "code",
   "execution_count": null,
   "id": "8549483b",
   "metadata": {},
   "outputs": [],
   "source": []
  },
  {
   "cell_type": "code",
   "execution_count": null,
   "id": "95fa6fe9",
   "metadata": {},
   "outputs": [],
   "source": []
  },
  {
   "cell_type": "markdown",
   "id": "10695566",
   "metadata": {},
   "source": [
    "Qual é a categoria de produto que traz a maior receita?"
   ]
  },
  {
   "cell_type": "code",
   "execution_count": null,
   "id": "1b366ea7",
   "metadata": {},
   "outputs": [],
   "source": []
  },
  {
   "cell_type": "code",
   "execution_count": null,
   "id": "66f6a205",
   "metadata": {},
   "outputs": [],
   "source": []
  },
  {
   "cell_type": "markdown",
   "id": "159248b3",
   "metadata": {},
   "source": [
    "Qual a receita média por cada tipo de produto?"
   ]
  },
  {
   "cell_type": "code",
   "execution_count": null,
   "id": "bf8d4a49",
   "metadata": {},
   "outputs": [],
   "source": []
  },
  {
   "cell_type": "code",
   "execution_count": null,
   "id": "5d636ed4",
   "metadata": {},
   "outputs": [],
   "source": []
  },
  {
   "cell_type": "markdown",
   "id": "e0531006",
   "metadata": {},
   "source": [
    "Qual a receita média por região?"
   ]
  },
  {
   "cell_type": "code",
   "execution_count": null,
   "id": "53250525",
   "metadata": {},
   "outputs": [],
   "source": []
  },
  {
   "cell_type": "code",
   "execution_count": null,
   "id": "b4bc4470",
   "metadata": {},
   "outputs": [],
   "source": []
  },
  {
   "cell_type": "markdown",
   "id": "3291fbef",
   "metadata": {},
   "source": [
    "Quais as lojas que trazem mais ou menos receita?"
   ]
  },
  {
   "cell_type": "code",
   "execution_count": null,
   "id": "85f32295",
   "metadata": {},
   "outputs": [],
   "source": []
  },
  {
   "cell_type": "code",
   "execution_count": null,
   "id": "4666cee2",
   "metadata": {},
   "outputs": [],
   "source": []
  },
  {
   "cell_type": "markdown",
   "id": "18a3d5ca",
   "metadata": {},
   "source": [
    "Existe algum padrão nos horários das transações, seja por produto, loja ou região?"
   ]
  },
  {
   "cell_type": "code",
   "execution_count": null,
   "id": "2ff1469f",
   "metadata": {},
   "outputs": [],
   "source": []
  },
  {
   "cell_type": "code",
   "execution_count": null,
   "id": "02133cc2",
   "metadata": {},
   "outputs": [],
   "source": []
  }
 ],
 "metadata": {
  "kernelspec": {
   "display_name": "Python 3 (ipykernel)",
   "language": "python",
   "name": "python3"
  },
  "language_info": {
   "codemirror_mode": {
    "name": "ipython",
    "version": 3
   },
   "file_extension": ".py",
   "mimetype": "text/x-python",
   "name": "python",
   "nbconvert_exporter": "python",
   "pygments_lexer": "ipython3",
   "version": "3.9.12"
  }
 },
 "nbformat": 4,
 "nbformat_minor": 5
}

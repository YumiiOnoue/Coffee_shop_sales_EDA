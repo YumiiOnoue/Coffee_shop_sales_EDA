{
 "cells": [
  {
   "cell_type": "markdown",
   "id": "31ce7b06",
   "metadata": {},
   "source": [
    "# Coffe Shop Sales"
   ]
  },
  {
   "cell_type": "markdown",
   "id": "92690971",
   "metadata": {},
   "source": [
    "## Importando bibliotecas"
   ]
  },
  {
   "cell_type": "code",
   "execution_count": 1,
   "id": "6f6c3fc6",
   "metadata": {},
   "outputs": [],
   "source": [
    "import pandas as pd \n",
    "import numpy as np  \n",
    "import matplotlib.pyplot as plt  \n",
    "import seaborn as sns  "
   ]
  },
  {
   "cell_type": "markdown",
   "id": "bc8d7a07",
   "metadata": {},
   "source": [
    "## Carregando dados"
   ]
  },
  {
   "cell_type": "code",
   "execution_count": null,
   "id": "095f5459",
   "metadata": {},
   "outputs": [],
   "source": [
    "df = pd.read_excel('Coffee_Shop_Sales.xlsx')"
   ]
  },
  {
   "cell_type": "markdown",
   "id": "db8bbcde",
   "metadata": {},
   "source": [
    "## Explorando os dados"
   ]
  },
  {
   "cell_type": "code",
   "execution_count": null,
   "id": "6ceacf63",
   "metadata": {},
   "outputs": [],
   "source": [
    "df.head() "
   ]
  },
  {
   "cell_type": "code",
   "execution_count": null,
   "id": "34b66228",
   "metadata": {},
   "outputs": [],
   "source": [
    "#informações gerais\n",
    "df.info()"
   ]
  },
  {
   "cell_type": "code",
   "execution_count": null,
   "id": "367189c9",
   "metadata": {},
   "outputs": [],
   "source": [
    "# Estatísticas descritivas básicas\n",
    "df[['transaction_qty','unit_price']].describe()"
   ]
  },
  {
   "cell_type": "code",
   "execution_count": null,
   "id": "a80def8c",
   "metadata": {},
   "outputs": [],
   "source": [
    "df.columns"
   ]
  },
  {
   "cell_type": "code",
   "execution_count": null,
   "id": "b2dd6c60",
   "metadata": {},
   "outputs": [],
   "source": [
    "df.shape"
   ]
  },
  {
   "cell_type": "markdown",
   "id": "5cf52601",
   "metadata": {},
   "source": [
    "## Análise Exploratória dos Dados"
   ]
  },
  {
   "cell_type": "markdown",
   "id": "0b9ae098",
   "metadata": {},
   "source": [
    "Qual o produto mais vendido?"
   ]
  },
  {
   "cell_type": "code",
   "execution_count": null,
   "id": "8549483b",
   "metadata": {
    "scrolled": true
   },
   "outputs": [],
   "source": [
    "produto_venda = df.groupby('product_detail')['transaction_qty'].sum().sort_values(ascending=False).head(10)\n",
    "produto_venda"
   ]
  },
  {
   "cell_type": "code",
   "execution_count": null,
   "id": "95fa6fe9",
   "metadata": {},
   "outputs": [],
   "source": [
    "plt.figure(figsize=(20,8))\n",
    "sns.barplot(x=produto_venda.values, y=produto_venda.index, palette=\"viridis\")\n",
    "plt.title('Top 10 Produtos Mais Vendidos')\n",
    "plt.xlabel('Quantidade Vendida')\n",
    "plt.ylabel('Produto')\n",
    "plt.savefig('top10-produtos-mais-vendidos.png', facecolor='white')\n",
    "plt.show()"
   ]
  },
  {
   "cell_type": "markdown",
   "id": "10695566",
   "metadata": {},
   "source": [
    "Qual é a categoria de produto que traz a maior receita?"
   ]
  },
  {
   "cell_type": "code",
   "execution_count": null,
   "id": "1b366ea7",
   "metadata": {},
   "outputs": [],
   "source": [
    "df['receita_total'] = df['transaction_qty']*df['unit_price']"
   ]
  },
  {
   "cell_type": "code",
   "execution_count": null,
   "id": "66f6a205",
   "metadata": {},
   "outputs": [],
   "source": [
    "categoria_receita = df.groupby('product_category')['receita_total'].sum().sort_values(ascending=False)\n",
    "categoria_receita"
   ]
  },
  {
   "cell_type": "code",
   "execution_count": null,
   "id": "bd0cb6a4",
   "metadata": {},
   "outputs": [],
   "source": [
    "plt.figure(figsize=(18,6))\n",
    "sns.barplot(x=categoria_receita.values, y=categoria_receita.index, palette=\"viridis\")\n",
    "plt.title('Categoria Mais Vendidos')\n",
    "plt.xlabel('Quantidade Vendida')\n",
    "plt.ylabel('Categoria')\n",
    "plt.savefig('categoria-mais-vendidos.png', dpi=300, facecolor='white')\n",
    "plt.show()"
   ]
  },
  {
   "cell_type": "markdown",
   "id": "159248b3",
   "metadata": {},
   "source": [
    "Qual a receita média por cada tipo de produto?"
   ]
  },
  {
   "cell_type": "code",
   "execution_count": null,
   "id": "bf8d4a49",
   "metadata": {},
   "outputs": [],
   "source": [
    "receita_media_tipo = df.groupby('product_type')['receita_total'].mean().sort_values(ascending=False).head(10)\n",
    "receita_media_tipo"
   ]
  },
  {
   "cell_type": "code",
   "execution_count": null,
   "id": "5d636ed4",
   "metadata": {},
   "outputs": [],
   "source": [
    "plt.figure(figsize=(15,6))\n",
    "sns.barplot(x=receita_media_tipo.values, y=receita_media_tipo.index, palette=\"mako\")\n",
    "plt.title('Receita Média por Tipo de Produto')\n",
    "plt.xlabel('Receita Média')\n",
    "plt.ylabel('Tipo de Produto')\n",
    "plt.savefig('receita-media-tipo.png', dpi=300, facecolor='white')\n",
    "plt.show()"
   ]
  },
  {
   "cell_type": "markdown",
   "id": "e0531006",
   "metadata": {},
   "source": [
    "Qual a receita média por loja?"
   ]
  },
  {
   "cell_type": "code",
   "execution_count": null,
   "id": "53250525",
   "metadata": {},
   "outputs": [],
   "source": [
    "receita_media_loja = df.groupby('store_location')['receita_total'].mean().sort_values(ascending=False)\n",
    "receita_media_loja"
   ]
  },
  {
   "cell_type": "code",
   "execution_count": null,
   "id": "b4bc4470",
   "metadata": {},
   "outputs": [],
   "source": [
    "plt.figure(figsize=(10,5))\n",
    "sns.barplot(x=receita_media_loja.index, y=receita_media_loja.values, palette='Blues')\n",
    "plt.title('Receita Média por Loja')\n",
    "plt.xlabel('Loja')\n",
    "plt.ylabel('Receita Média')\n",
    "plt.savefig('receita-media-loja.png', dpi=300, facecolor='white')\n",
    "plt.show()"
   ]
  },
  {
   "cell_type": "markdown",
   "id": "3291fbef",
   "metadata": {},
   "source": [
    "Quais as lojas que trazem mais ou menos receita?"
   ]
  },
  {
   "cell_type": "code",
   "execution_count": null,
   "id": "85f32295",
   "metadata": {},
   "outputs": [],
   "source": [
    "receita_loja = df.groupby('store_location')['receita_total'].sum().sort_values(ascending=False)\n",
    "receita_loja"
   ]
  },
  {
   "cell_type": "code",
   "execution_count": null,
   "id": "4666cee2",
   "metadata": {},
   "outputs": [],
   "source": [
    "plt.figure(figsize=(10,5))\n",
    "sns.barplot(x=receita_loja.index, y=receita_loja.values, palette='Blues')\n",
    "plt.title('Receita por Loja')\n",
    "plt.xlabel('Loja')\n",
    "plt.ylabel('Receita Total')\n",
    "plt.savefig('receita-loja.png', dpi=300, facecolor='white')\n",
    "plt.show()"
   ]
  },
  {
   "cell_type": "markdown",
   "id": "18a3d5ca",
   "metadata": {},
   "source": [
    "Existe algum padrão nos horários das transações, seja por produto, loja ou região?"
   ]
  },
  {
   "cell_type": "code",
   "execution_count": null,
   "id": "2ff1469f",
   "metadata": {},
   "outputs": [],
   "source": [
    "# Agregar vendas por dia\n",
    "vendas_dia = df.groupby('transaction_date')['receita_total'].sum()\n",
    "vendas_dia"
   ]
  },
  {
   "cell_type": "code",
   "execution_count": null,
   "id": "02133cc2",
   "metadata": {},
   "outputs": [],
   "source": [
    "plt.figure(figsize=(15,5))\n",
    "vendas_dia.plot()\n",
    "plt.title('Vendas Diárias')\n",
    "plt.xlabel('Data')\n",
    "plt.ylabel('Receita Total')\n",
    "plt.savefig('vendas-diarias.png', dpi=300, facecolor='white')\n",
    "plt.show()"
   ]
  },
  {
   "cell_type": "code",
   "execution_count": null,
   "id": "b449ff0c",
   "metadata": {},
   "outputs": [],
   "source": [
    "# Converter transaction_time para datetime\n",
    "df['transaction_time'] = pd.to_datetime(df['transaction_time'], format='%H:%M:%S').dt.time\n",
    "\n",
    "# Criar coluna com a hora apenas\n",
    "df['transacao_hora'] = pd.to_datetime(df['transaction_time'], format='%H:%M:%S').dt.hour\n",
    "\n",
    "# Vendas por hora\n",
    "vendas_hora = df.groupby('transacao_hora')['transaction_qty'].sum()\n",
    "vendas_hora"
   ]
  },
  {
   "cell_type": "code",
   "execution_count": null,
   "id": "444a2f27",
   "metadata": {
    "scrolled": true
   },
   "outputs": [],
   "source": [
    "plt.figure(figsize=(10,5))\n",
    "sns.lineplot(x=vendas_hora.index, y=vendas_hora.values, palette='Blues')\n",
    "plt.title('Vendas por Hora')\n",
    "plt.xlabel('Hora do Dia')\n",
    "plt.ylabel('Quantidade de Produtos Vendidos')\n",
    "plt.xticks(range(0, 24))\n",
    "plt.grid(axis='y')\n",
    "plt.savefig('vendas-hora.png', dpi=300, facecolor='white')\n",
    "plt.show()"
   ]
  }
 ],
 "metadata": {
  "kernelspec": {
   "display_name": "Python 3 (ipykernel)",
   "language": "python",
   "name": "python3"
  },
  "language_info": {
   "codemirror_mode": {
    "name": "ipython",
    "version": 3
   },
   "file_extension": ".py",
   "mimetype": "text/x-python",
   "name": "python",
   "nbconvert_exporter": "python",
   "pygments_lexer": "ipython3",
   "version": "3.9.12"
  }
 },
 "nbformat": 4,
 "nbformat_minor": 5
}
